{
 "cells": [
  {
   "cell_type": "markdown",
   "metadata": {
    "toc": true
   },
   "source": [
    "<h1>Table of Contents<span class=\"tocSkip\"></span></h1>\n",
    "<div class=\"toc\"><ul class=\"toc-item\"><li><span><a href=\"#Advantage-of-XML-data-format\" data-toc-modified-id=\"Advantage-of-XML-data-format-1\"><span class=\"toc-item-num\">1&nbsp;&nbsp;</span>Advantage of XML data format</a></span></li><li><span><a href=\"#ElementTree\" data-toc-modified-id=\"ElementTree-2\"><span class=\"toc-item-num\">2&nbsp;&nbsp;</span>ElementTree</a></span></li><li><span><a href=\"#Parsing-XML-Data\" data-toc-modified-id=\"Parsing-XML-Data-3\"><span class=\"toc-item-num\">3&nbsp;&nbsp;</span>Parsing XML Data</a></span></li><li><span><a href=\"#Project:\" data-toc-modified-id=\"Project:-4\"><span class=\"toc-item-num\">4&nbsp;&nbsp;</span>Project:</a></span></li></ul></div>"
   ]
  },
  {
   "cell_type": "markdown",
   "metadata": {},
   "source": [
    "# Advantage of XML data format \n",
    "\n",
    "XML stands for \"Extensible Markup Language\". It is mainly used in webpages, where the data has a specific structure and is understood dynamically by the XML framework. XML creates a tree-like structure that is easy to interpret and supports a hierarchy. Whenever a page follows XML, it can be called an XML document. Introduction can be found here:\n",
    "\n",
    "- Data transfer\n",
    "\n",
    "- Easy to write code to Read and Write\n",
    "\n",
    "- Document validation\n",
    "\n",
    "- Human readable\n",
    "\n",
    "- Support varieties of applications\n",
    "\n",
    "- Robust parsers in most languages\n",
    "\n",
    "- It is free\n",
    "\n",
    "\n",
    "\n",
    "#  ElementTree\n",
    "Python has a built in library, ElementTree, that has functions to read and manipulate XMLs (and other similarly structured files).\n",
    "\n",
    "\n",
    "import xml.etree.ElementTree as ET\n",
    "\n",
    "\n",
    "# Parsing XML Data\n"
   ]
  },
  {
   "cell_type": "code",
   "execution_count": 2,
   "metadata": {},
   "outputs": [],
   "source": [
    "import xml.etree.ElementTree as ET\n",
    "\n"
   ]
  },
  {
   "cell_type": "code",
   "execution_count": 7,
   "metadata": {},
   "outputs": [
    {
     "name": "stdout",
     "output_type": "stream",
     "text": [
      "root element is: art\n",
      "Tags and attrib are: At top level the root has not atrribute\n",
      "Titel: Standardization of the functional syndesmosis widening by dynamic U.S examination\n",
      "List of email addresses:\n",
      "omer@extremegate.com\n",
      "mcarmont@hotmail.com\n",
      "laver17@gmail.com\n",
      "nyska@internet-zahav.net\n",
      "kammarh@gmail.com\n",
      "gideon.mann.md@gmail.com\n",
      "barns.nz@gmail.com\n",
      "eukots@gmail.com\n"
     ]
    }
   ],
   "source": [
    "# .tag is a attributes which is usefull\n",
    "tree = ET.parse('exampleresearcharticle.xml')\n",
    "root = tree.getroot()\n",
    "print('root element is:', root.tag)\n",
    "print('Tags and attrib are: At top level the root has not atrribute' )\n",
    "\n",
    "\n",
    "\n",
    "# seccond attributes is .text which find the text for up\n",
    "#  We want to find the title \n",
    "title = root.find('./fm/bibl/title')\n",
    "title_text= ''\n",
    "for t in title:\n",
    "    title_text += t.text \n",
    "print(\"Titel:\", title_text)\n",
    "\n",
    "\n",
    "\n",
    "# Look for all email addresses. \n",
    "print('List of email addresses:')\n",
    "emails = root.findall('./fm/bibl/aug/au')\n",
    "for email in emails:\n",
    "    email = email.find('email')\n",
    "    if email is not None:\n",
    "        print(email.text)\n",
    "    "
   ]
  },
  {
   "cell_type": "code",
   "execution_count": 24,
   "metadata": {},
   "outputs": [
    {
     "name": "stdout",
     "output_type": "stream",
     "text": [
      "title {}\n",
      "aug {}\n",
      "insg {}\n",
      "source {}\n",
      "issn {}\n",
      "pubdate {}\n",
      "volume {}\n",
      "issue {}\n",
      "fpage {}\n",
      "url {}\n",
      "xrefbib {}\n"
     ]
    }
   ],
   "source": [
    "for d in root.find('./fm/bibl'):\n",
    "    print(d.tag, d.attrib)"
   ]
  },
  {
   "cell_type": "markdown",
   "metadata": {},
   "source": [
    "# Project:\n",
    "The task here is to extract data from xml on authors of an article\n",
    "and add it to a list, one item for an author. See the provided data structure for the expected format. The tags for first name, surname and email should map directly  to the dictionary keys."
   ]
  },
  {
   "cell_type": "code",
   "execution_count": 35,
   "metadata": {
    "code_folding": []
   },
   "outputs": [],
   "source": [
    "import xml.etree.ElementTree as ET\n",
    "\n",
    "article_file = \"exampleResearchArticle.xml\"\n",
    "\n",
    "\n",
    "def get_authors(root):\n",
    "    authors = []\n",
    "    for author in root.findall('./fm/bibl/aug/au'):\n",
    "        data = {\n",
    "                \"fnm\": None,\n",
    "                \"snm\": None,\n",
    "                \"email\": None,\n",
    "                \"insr\": []\n",
    "        }\n",
    "        data[\"fnm\"] = author.find('./fnm').text\n",
    "        data[\"snm\"] = author.find('./snm').text\n",
    "        data[\"email\"] = author.find('./email').text\n",
    "        insr = author.findall('./insr')\n",
    "        # insr has the form of attribute with the name of iid\n",
    "        for i in insr:\n",
    "            data[\"insr\"].append(i.attrib[\"iid\"])\n",
    "        authors.append(data)\n",
    "\n",
    "    return authors\n",
    "\n",
    "\n",
    "def test():\n",
    "    solution = [{'insr': ['I1'], 'fnm': 'Omer', 'snm': 'Mei-Dan', 'email': 'omer@extremegate.com'},\n",
    "                {'insr': ['I2'], 'fnm': 'Mike', 'snm': 'Carmont', 'email': 'mcarmont@hotmail.com'},\n",
    "                {'insr': ['I3', 'I4'], 'fnm': 'Lior', 'snm': 'Laver', 'email': 'laver17@gmail.com'},\n",
    "                {'insr': ['I3'], 'fnm': 'Meir', 'snm': 'Nyska', 'email': 'nyska@internet-zahav.net'},\n",
    "                {'insr': ['I8'], 'fnm': 'Hagay', 'snm': 'Kammar', 'email': 'kammarh@gmail.com'},\n",
    "                {'insr': ['I3', 'I5'], 'fnm': 'Gideon', 'snm': 'Mann', 'email': 'gideon.mann.md@gmail.com'},\n",
    "                {'insr': ['I6'], 'fnm': 'Barnaby', 'snm': 'Clarck', 'email': 'barns.nz@gmail.com'},\n",
    "                {'insr': ['I7'], 'fnm': 'Eugene', 'snm': 'Kots', 'email': 'eukots@gmail.com'}]\n",
    "\n",
    "    root = get_root(article_file)\n",
    "    data = get_authors(root)\n",
    "\n",
    "    assert data[0] == solution[0]\n",
    "    assert data[1][\"insr\"] == solution[1][\"insr\"]\n",
    "\n",
    "\n",
    "test()"
   ]
  },
  {
   "cell_type": "code",
   "execution_count": 36,
   "metadata": {},
   "outputs": [
    {
     "data": {
      "text/plain": [
       "[{'fnm': 'Omer',\n",
       "  'snm': 'Mei-Dan',\n",
       "  'email': 'omer@extremegate.com',\n",
       "  'insr': ['I1']},\n",
       " {'fnm': 'Mike',\n",
       "  'snm': 'Carmont',\n",
       "  'email': 'mcarmont@hotmail.com',\n",
       "  'insr': ['I2']},\n",
       " {'fnm': 'Lior',\n",
       "  'snm': 'Laver',\n",
       "  'email': 'laver17@gmail.com',\n",
       "  'insr': ['I3', 'I4']},\n",
       " {'fnm': 'Meir',\n",
       "  'snm': 'Nyska',\n",
       "  'email': 'nyska@internet-zahav.net',\n",
       "  'insr': ['I3']},\n",
       " {'fnm': 'Hagay',\n",
       "  'snm': 'Kammar',\n",
       "  'email': 'kammarh@gmail.com',\n",
       "  'insr': ['I8']},\n",
       " {'fnm': 'Gideon',\n",
       "  'snm': 'Mann',\n",
       "  'email': 'gideon.mann.md@gmail.com',\n",
       "  'insr': ['I3', 'I5']},\n",
       " {'fnm': 'Barnaby',\n",
       "  'snm': 'Clarck',\n",
       "  'email': 'barns.nz@gmail.com',\n",
       "  'insr': ['I6']},\n",
       " {'fnm': 'Eugene', 'snm': 'Kots', 'email': 'eukots@gmail.com', 'insr': ['I7']}]"
      ]
     },
     "execution_count": 36,
     "metadata": {},
     "output_type": "execute_result"
    }
   ],
   "source": [
    "get_root(article_file)\n",
    "get_authors(root)"
   ]
  },
  {
   "cell_type": "code",
   "execution_count": null,
   "metadata": {},
   "outputs": [],
   "source": []
  },
  {
   "cell_type": "code",
   "execution_count": null,
   "metadata": {},
   "outputs": [],
   "source": []
  },
  {
   "cell_type": "code",
   "execution_count": null,
   "metadata": {},
   "outputs": [],
   "source": []
  },
  {
   "cell_type": "code",
   "execution_count": null,
   "metadata": {},
   "outputs": [],
   "source": []
  }
 ],
 "metadata": {
  "kernelspec": {
   "display_name": "Python 3",
   "language": "python",
   "name": "python3"
  },
  "language_info": {
   "codemirror_mode": {
    "name": "ipython",
    "version": 3
   },
   "file_extension": ".py",
   "mimetype": "text/x-python",
   "name": "python",
   "nbconvert_exporter": "python",
   "pygments_lexer": "ipython3",
   "version": "3.7.0"
  },
  "toc": {
   "base_numbering": 1,
   "nav_menu": {},
   "number_sections": true,
   "sideBar": true,
   "skip_h1_title": false,
   "title_cell": "Table of Contents",
   "title_sidebar": "Contents",
   "toc_cell": true,
   "toc_position": {},
   "toc_section_display": true,
   "toc_window_display": true
  }
 },
 "nbformat": 4,
 "nbformat_minor": 2
}
